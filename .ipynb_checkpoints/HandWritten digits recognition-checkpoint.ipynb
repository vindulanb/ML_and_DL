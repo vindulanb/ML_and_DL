{
 "cells": [
  {
   "cell_type": "markdown",
   "metadata": {
    "colab_type": "text",
    "id": "eAN4Pb1rp6cv"
   },
   "source": [
    "IT16111752 (working)\n",
    "\n",
    "Vindula Illankoon\n",
    "\n",
    "The dataset is used online from the cloud \n",
    "\n",
    "***Referred links***\n",
    "*   Download:\n",
    "links: https://www.kaggle.com/c/digit-recognizer/data?\n",
    "*   From TensorFlow:\n",
    "tf.keras.datasets.mnist.load_data(path='mnist.npz')\n",
    "\n",
    "https://towardsdatascience.com/a-comprehensive-guide-to-convolutional-neural-networks-the-eli5-way-3bd2b1164a53\n",
    "\n",
    "https://www.youtube.com/watch?v=FTr3n7uBIuE\n",
    "\n",
    "https://keras.io/layers/convolutional/\n",
    "\n",
    "**Import the \"MNIST digit\" dataset online from the cloud**\n"
   ]
  },
  {
   "cell_type": "code",
   "execution_count": 0,
   "metadata": {
    "colab": {
     "base_uri": "https://localhost:8080/",
     "height": 70
    },
    "colab_type": "code",
    "id": "jDwhWvEQpX2h",
    "outputId": "24cc0769-3218-42bd-c7e6-a5261b3f5184"
   },
   "outputs": [
    {
     "name": "stderr",
     "output_type": "stream",
     "text": [
      "Using TensorFlow backend.\n"
     ]
    },
    {
     "name": "stdout",
     "output_type": "stream",
     "text": [
      "Downloading data from https://storage.googleapis.com/tensorflow/tf-keras-datasets/mnist.npz\n",
      "11493376/11490434 [==============================] - 0s 0us/step\n"
     ]
    }
   ],
   "source": [
    "import tensorflow as tf\n",
    "import matplotlib.pyplot as plt\n",
    "import numpy as np\n",
    "\n",
    "from keras import backend as K\n",
    "from keras.utils import np_utils\n",
    "\n",
    "mnist = tf.keras.datasets.mnist\n",
    "\n",
    "# 28 x 28 images of numbers (0 - 9)\n",
    "# Unpack Mnist hanwritten dataset into following numpy arrays\n",
    "(x_train, y_train),(x_test, y_test) = mnist.load_data()"
   ]
  },
  {
   "cell_type": "code",
   "execution_count": 0,
   "metadata": {
    "colab": {},
    "colab_type": "code",
    "id": "5X_ehyrVJIgs"
   },
   "outputs": [],
   "source": [
    "# Fix random seed for reproducibility\n",
    "seed = 1234\n",
    "np.random.seed(seed)"
   ]
  },
  {
   "cell_type": "code",
   "execution_count": 0,
   "metadata": {
    "colab": {
     "base_uri": "https://localhost:8080/",
     "height": 34
    },
    "colab_type": "code",
    "id": "RE7xaE1qJNnx",
    "outputId": "9605326f-d813-4f74-9539-b50062a6af95"
   },
   "outputs": [
    {
     "data": {
      "text/plain": [
       "(60000, 28, 28)"
      ]
     },
     "execution_count": 2,
     "metadata": {
      "tags": []
     },
     "output_type": "execute_result"
    }
   ],
   "source": [
    "# Original image shape\n",
    "x_train.shape "
   ]
  },
  {
   "cell_type": "markdown",
   "metadata": {
    "colab_type": "text",
    "id": "FpyitYVfGPWU"
   },
   "source": [
    "**Visualizing data**"
   ]
  },
  {
   "cell_type": "code",
   "execution_count": 0,
   "metadata": {
    "colab": {
     "base_uri": "https://localhost:8080/",
     "height": 320
    },
    "colab_type": "code",
    "id": "7KpURcUaGZS0",
    "outputId": "69f1e6b4-39cb-43e5-95b5-e97e5d7032c5"
   },
   "outputs": [
    {
     "data": {
      "text/plain": [
       "<function matplotlib.pyplot.show>"
      ]
     },
     "execution_count": 4,
     "metadata": {
      "tags": []
     },
     "output_type": "execute_result"
    },
    {
     "data": {
      "image/png": "[encoded data removed]",
      "text/plain": [
       "<Figure size 648x360 with 18 Axes>"
      ]
     },
     "metadata": {
      "tags": []
     },
     "output_type": "display_data"
    }
   ],
   "source": [
    "images = x_train[0:18]\n",
    "fig, axes = plt.subplots(3, 6, figsize=[9,5])\n",
    "\n",
    "for i, ax in enumerate(axes.flat):\n",
    "    # Converts the colored images into binary images\n",
    "    ax.imshow(x_train[i].reshape(28, 28),cmap=plt.cm.binary)\n",
    "    ax.set_xticks([])\n",
    "    ax.set_yticks([])\n",
    "plt.show"
   ]
  },
  {
   "cell_type": "markdown",
   "metadata": {
    "colab_type": "text",
    "id": "yUWqI_gCOYmE"
   },
   "source": [
    "**Distribution of 10 digits**"
   ]
  },
  {
   "cell_type": "code",
   "execution_count": 0,
   "metadata": {
    "colab": {
     "base_uri": "https://localhost:8080/",
     "height": 286
    },
    "colab_type": "code",
    "id": "3sYbW7d4OXge",
    "outputId": "b2506e5c-4dab-4da0-b6db-316ba45f103b"
   },
   "outputs": [
    {
     "data": {
      "image/png": "[encoded data removed]",
      "text/plain": [
       "<Figure size 432x288 with 1 Axes>"
      ]
     },
     "metadata": {
      "tags": []
     },
     "output_type": "display_data"
    },
    {
     "name": "stdout",
     "output_type": "stream",
     "text": [
      "[5923 6742 5958 6131 5842 5421 5918 6265 5851 5949]\n"
     ]
    }
   ],
   "source": [
    "counts = np.bincount(y_train)\n",
    "nums = np.arange(len(counts))\n",
    "plt.bar(nums, counts)\n",
    "plt.show()\n",
    "print(counts)"
   ]
  },
  {
   "cell_type": "markdown",
   "metadata": {
    "colab_type": "text",
    "id": "pgY1J6zuFmDM"
   },
   "source": [
    "**Normalizing (Scaling) the feature set**"
   ]
  },
  {
   "cell_type": "code",
   "execution_count": 0,
   "metadata": {
    "colab": {
     "base_uri": "https://localhost:8080/",
     "height": 268
    },
    "colab_type": "code",
    "id": "LMTQ_2TeFZVV",
    "outputId": "5ccd0bba-29cd-4df6-b4da-988991ce798e"
   },
   "outputs": [
    {
     "data": {
      "image/png": "[encoded data removed]",
      "text/plain": [
       "<Figure size 432x288 with 1 Axes>"
      ]
     },
     "metadata": {
      "tags": []
     },
     "output_type": "display_data"
    }
   ],
   "source": [
    "x_train = tf.keras.utils.normalize(x_train, axis=1)\n",
    "x_test = tf.keras.utils.normalize(x_test, axis=1)\n",
    "\n",
    "# Converts the colored images into binary images\n",
    "plt.imshow(x_train[0],cmap=plt.cm.binary)\n",
    "plt.show()"
   ]
  },
  {
   "cell_type": "code",
   "execution_count": 0,
   "metadata": {
    "colab": {},
    "colab_type": "code",
    "id": "B19VOs8QJbsq"
   },
   "outputs": [],
   "source": [
    "# Final categories in target\n",
    "y_train = np_utils.to_categorical(y_train)\n",
    "y_test = np_utils.to_categorical(y_test)\n",
    "num_classes = y_test.shape[1]"
   ]
  },
  {
   "cell_type": "markdown",
   "metadata": {
    "colab_type": "text",
    "id": "ZRwXpbQIJl5g"
   },
   "source": [
    "**Reshaping the data**"
   ]
  },
  {
   "cell_type": "code",
   "execution_count": 0,
   "metadata": {
    "colab": {},
    "colab_type": "code",
    "id": "oYB8We8FT3PY"
   },
   "outputs": [],
   "source": [
    "# TensorFlow style \n",
    "# reshape : @param [samples: 60000], [width], [height], [pixels: binary image, 1 chanel]\n",
    "x_train = x_train.reshape(x_train.shape[0], 28, 28, 1)\n",
    "x_test = x_test.reshape(x_test.shape[0], 28, 28, 1)\n",
    "\n",
    "input_shape = (28, 28, 1)"
   ]
  },
  {
   "cell_type": "markdown",
   "metadata": {
    "colab_type": "text",
    "id": "AFr5D8T0QNTW"
   },
   "source": [
    "**Building the convolutional neural network**"
   ]
  },
  {
   "cell_type": "code",
   "execution_count": 0,
   "metadata": {
    "colab": {},
    "colab_type": "code",
    "id": "lpS1dnRrQNd5"
   },
   "outputs": [],
   "source": [
    "tf.logging.set_verbosity(tf.logging.ERROR)\n",
    "\n",
    "model = tf.keras.models.Sequential([\n",
    "  \n",
    "  # Convolutional layer   \n",
    "  tf.keras.layers.Conv2D(30, (4, 4), activation='relu', input_shape=(28, 28, 1)),\n",
    "    \n",
    "  # Max pooling layer  \n",
    "  tf.keras.layers.MaxPooling2D(pool_size=(2, 2)),\n",
    "    \n",
    "  # Convolutional layer     \n",
    "  tf.keras.layers.Conv2D(60, (2, 2), activation='relu'),\n",
    "    \n",
    "  # Max pooling layer    \n",
    "  tf.keras.layers.MaxPooling2D(pool_size=(2, 2)),\n",
    "  \n",
    "  # Drop some weights to get rid of overfitting  \n",
    "  tf.keras.layers.Dropout(0.25),\n",
    "    \n",
    "  # Flatten the input to reduce too many dimensions\n",
    "  tf.keras.layers.Flatten(),\n",
    "    \n",
    "  # Two layers with having 128 and 20 nodes with rectified linear activation(relu) \n",
    "  tf.keras.layers.Dense(128, activation='relu'),\n",
    "  tf.keras.layers.Dense(20, activation='relu'),\n",
    "    \n",
    "  # Last dense layer to output multi-class probabilities  \n",
    "  tf.keras.layers.Dense(num_classes, activation='softmax')\n",
    "])\n",
    " \n",
    "# Optimization with adam  \n",
    "model.compile(optimizer='adam',\n",
    "              metrics=['accuracy'],\n",
    "              loss='categorical_crossentropy')"
   ]
  },
  {
   "cell_type": "code",
   "execution_count": 0,
   "metadata": {
    "colab": {
     "base_uri": "https://localhost:8080/",
     "height": 478
    },
    "colab_type": "code",
    "id": "whlv9tvryKiG",
    "outputId": "48ea5f86-b73b-48d8-b2b7-d96b41284aa5"
   },
   "outputs": [
    {
     "name": "stdout",
     "output_type": "stream",
     "text": [
      "Model: \"sequential\"\n",
      "_________________________________________________________________\n",
      "Layer (type)                 Output Shape              Param #   \n",
      "=================================================================\n",
      "conv2d (Conv2D)              (None, 25, 25, 30)        510       \n",
      "_________________________________________________________________\n",
      "max_pooling2d (MaxPooling2D) (None, 12, 12, 30)        0         \n",
      "_________________________________________________________________\n",
      "conv2d_1 (Conv2D)            (None, 11, 11, 60)        7260      \n",
      "_________________________________________________________________\n",
      "max_pooling2d_1 (MaxPooling2 (None, 5, 5, 60)          0         \n",
      "_________________________________________________________________\n",
      "dropout (Dropout)            (None, 5, 5, 60)          0         \n",
      "_________________________________________________________________\n",
      "flatten (Flatten)            (None, 1500)              0         \n",
      "_________________________________________________________________\n",
      "dense (Dense)                (None, 128)               192128    \n",
      "_________________________________________________________________\n",
      "dense_1 (Dense)              (None, 20)                2580      \n",
      "_________________________________________________________________\n",
      "dense_2 (Dense)              (None, 10)                210       \n",
      "=================================================================\n",
      "Total params: 202,688\n",
      "Trainable params: 202,688\n",
      "Non-trainable params: 0\n",
      "_________________________________________________________________\n"
     ]
    }
   ],
   "source": [
    "# See the model summary\n",
    "model.summary()"
   ]
  },
  {
   "cell_type": "markdown",
   "metadata": {
    "colab_type": "text",
    "id": "SEIOFH-nf12Y"
   },
   "source": [
    "**Training**"
   ]
  },
  {
   "cell_type": "code",
   "execution_count": 0,
   "metadata": {
    "colab": {
     "base_uri": "https://localhost:8080/",
     "height": 158
    },
    "colab_type": "code",
    "id": "QsLdRucfSrVM",
    "outputId": "4b649af0-13cd-43e7-ada3-61fdbee4e561"
   },
   "outputs": [
    {
     "name": "stdout",
     "output_type": "stream",
     "text": [
      "Train on 60000 samples, validate on 10000 samples\n",
      "Epoch 1/3\n",
      "60000/60000 - 32s - loss: 0.4162 - acc: 0.8746 - val_loss: 0.1060 - val_acc: 0.9705\n",
      "Epoch 2/3\n",
      "60000/60000 - 32s - loss: 0.1045 - acc: 0.9675 - val_loss: 0.0715 - val_acc: 0.9777\n",
      "Epoch 3/3\n",
      "60000/60000 - 32s - loss: 0.0729 - acc: 0.9772 - val_loss: 0.0478 - val_acc: 0.9852\n"
     ]
    },
    {
     "data": {
      "text/plain": [
       "<tensorflow.python.keras.callbacks.History at 0x7f2b473bd588>"
      ]
     },
     "execution_count": 10,
     "metadata": {
      "tags": []
     },
     "output_type": "execute_result"
    }
   ],
   "source": [
    "# Training the model\n",
    "model.fit(x_train, y_train, validation_data = (x_test, y_test), epochs=3, batch_size = 200, verbose = 2)"
   ]
  },
  {
   "cell_type": "markdown",
   "metadata": {
    "colab_type": "text",
    "id": "mY57weUcfwHK"
   },
   "source": [
    "**Testing**"
   ]
  },
  {
   "cell_type": "code",
   "execution_count": 0,
   "metadata": {
    "colab": {
     "base_uri": "https://localhost:8080/",
     "height": 70
    },
    "colab_type": "code",
    "id": "AqVFXvERftpG",
    "outputId": "6585e5b8-8398-4710-84fc-379013ca819e"
   },
   "outputs": [
    {
     "name": "stdout",
     "output_type": "stream",
     "text": [
      "10000/10000 [==============================] - 2s 227us/sample - loss: 0.0478 - acc: 0.9852\n",
      "Error: 1.48%\n",
      "Accuracy: 98.52%\n"
     ]
    }
   ],
   "source": [
    "# Testing\n",
    "accuracy_scores = model.evaluate(x_test, y_test)\n",
    "\n",
    "print(\"Error: %.2f%%\" % (100 - accuracy_scores[1]*100))\n",
    "print(\"Accuracy: %.2f%%\" % (accuracy_scores[1]*100))"
   ]
  },
  {
   "cell_type": "markdown",
   "metadata": {
    "colab_type": "text",
    "id": "vX1BUZnToOlf"
   },
   "source": [
    "**Predictions**"
   ]
  },
  {
   "cell_type": "code",
   "execution_count": 0,
   "metadata": {
    "colab": {
     "base_uri": "https://localhost:8080/",
     "height": 411
    },
    "colab_type": "code",
    "id": "FSS9soq_UVtZ",
    "outputId": "63d72c4e-7cf0-4ab0-e5e1-0a42cc663127"
   },
   "outputs": [
    {
     "name": "stdout",
     "output_type": "stream",
     "text": [
      "The set of predicted values\n",
      "[1.9441536e-07 2.7344824e-10 1.4697210e-08 8.8665784e-06 2.8141605e-08\n",
      " 9.9977499e-01 1.7163994e-04 1.9180916e-08 2.1018948e-05 2.3210894e-05]\n",
      "\n",
      "Predicted digit :  5\n",
      "Probability of the digit being  5  is :  0.999775 \n",
      "\n"
     ]
    },
    {
     "data": {
      "text/plain": [
       "<matplotlib.image.AxesImage at 0x7f2b41852438>"
      ]
     },
     "execution_count": 13,
     "metadata": {
      "tags": []
     },
     "output_type": "execute_result"
    },
    {
     "data": {
      "image/png": "[encoded data removed]",
      "text/plain": [
       "<Figure size 432x288 with 1 Axes>"
      ]
     },
     "metadata": {
      "tags": []
     },
     "output_type": "display_data"
    }
   ],
   "source": [
    "# index of the digit which we are going to test with\n",
    "test_index = 23\n",
    "\n",
    "# Predict with test data\n",
    "predictions = model.predict(x_test)\n",
    "\n",
    "# getting the highet probable digit\n",
    "predicted_value = np.argmax(predictions[test_index])\n",
    "  \n",
    "print(\"The set of predicted values\")\n",
    "print(predictions[test_index])\n",
    "print(\"\\nPredicted digit : \", predicted_value)\n",
    "print(\"Probability of the digit being \", predicted_value, \" is : \", max(predictions[test_index]), \"\\n\")\n",
    "\n",
    "plt.imshow(x_test[test_index].reshape(28, 28))"
   ]
  }
 ],
 "metadata": {
  "colab": {
   "collapsed_sections": [],
   "name": "Deep_learning_assignment.ipynb",
   "provenance": []
  },
  "kernelspec": {
   "display_name": "Python 3",
   "language": "python",
   "name": "python3"
  },
  "language_info": {
   "codemirror_mode": {
    "name": "ipython",
    "version": 3
   },
   "file_extension": ".py",
   "mimetype": "text/x-python",
   "name": "python",
   "nbconvert_exporter": "python",
   "pygments_lexer": "ipython3",
   "version": "3.7.1"
  }
 },
 "nbformat": 4,
 "nbformat_minor": 1
}
